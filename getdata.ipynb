{
 "cells": [
  {
   "cell_type": "code",
   "execution_count": 1,
   "id": "66081434-419c-4144-b6c9-a72a02ab531a",
   "metadata": {},
   "outputs": [],
   "source": [
    "%load_ext autoreload\n",
    "%autoreload 2"
   ]
  },
  {
   "cell_type": "code",
   "execution_count": 2,
   "id": "0969c2fd-db13-4ae1-b6dc-295f01e7d74b",
   "metadata": {},
   "outputs": [],
   "source": [
    "import requests\n",
    "# from tqdm import tqdm\n",
    "import os\n",
    "from datetime import datetime"
   ]
  },
  {
   "cell_type": "markdown",
   "id": "b1612e15-36e1-492d-a949-2f43a4b619a7",
   "metadata": {
    "jp-MarkdownHeadingCollapsed": true
   },
   "source": [
    "# Downloading enwikivoyage-latest-pages-articles.xml.bz2"
   ]
  },
  {
   "cell_type": "code",
   "execution_count": 19,
   "id": "aadcdbe6-e3a1-48b5-9128-afc12fc9e754",
   "metadata": {
    "scrolled": true
   },
   "outputs": [
    {
     "name": "stderr",
     "output_type": "stream",
     "text": [
      "enwikivoyage-latest-pages-articles.xml.bz2: 100%|██████████████| 117M/117M [08:40<00:00, 235kiB/s]\n"
     ]
    }
   ],
   "source": [
    "import requests\n",
    "import os\n",
    "from tqdm import tqdm  # for progress bar\n",
    "\n",
    "def download_wikivoyage_dump(dest_dir):\n",
    "    # URL of the dump file\n",
    "    url = \"https://dumps.wikimedia.org/enwikivoyage/latest/enwikivoyage-latest-pages-articles.xml.bz2\"\n",
    "    \n",
    "    # Send a GET request with stream=True to download in chunks\n",
    "    response = requests.get(url, stream=True)\n",
    "    \n",
    "    # Get total file size from headers\n",
    "    total_size = int(response.headers.get('content-length', 0))\n",
    "    \n",
    "    # Open local file to write the content\n",
    "    filename = \"enwikivoyage-latest-pages-articles.xml.bz2\"\n",
    "    \n",
    "    # Show download progress\n",
    "    with open(f\"{dest_dir}/{filename}\", 'wb') as file, tqdm(\n",
    "        desc=filename,\n",
    "        total=total_size,\n",
    "        unit='iB',\n",
    "        unit_scale=True,\n",
    "        unit_divisor=1024,\n",
    "    ) as progress_bar:\n",
    "        for data in response.iter_content(chunk_size=1024):\n",
    "            size = file.write(data)\n",
    "            progress_bar.update(size)\n",
    "\n",
    "    return filename\n",
    "\n",
    "# Usage\n",
    "if __name__ == \"__main__\":\n",
    "    download_wikivoyage_dump(dest_dir=\"data/raw\")  # or"
   ]
  },
  {
   "cell_type": "markdown",
   "id": "253f31db-2554-4316-beec-4a09076eb0b5",
   "metadata": {},
   "source": [
    "# Parsing wikivoygage dump"
   ]
  },
  {
   "cell_type": "code",
   "execution_count": 118,
   "id": "a6b4292b-f9ed-45cb-80c7-854ba68334d7",
   "metadata": {},
   "outputs": [],
   "source": [
    "import bz2\n",
    "import json\n",
    "import xml.etree.ElementTree as ET\n",
    "import os\n",
    "from tqdm import tqdm\n",
    "\n",
    "            \n",
    "class WikivoyageParser():\n",
    "    def __init__(self, src_path):\n",
    "        self.src_path = src_path\n",
    "        self.namespace = {'mw': 'http://www.mediawiki.org/xml/export-0.11/'}   \n",
    "        \n",
    "\n",
    "    def _ensure_folder_exists(self, src_path):\n",
    "        try:\n",
    "            # Check if folder exists\n",
    "            if not os.path.exists(src_path):\n",
    "                # Create folder\n",
    "                os.makedirs(src_path)\n",
    "                print(f\"Created folder: {src_path}\")\n",
    "            else:\n",
    "                print(f\"Folder already exists: {src_path}\")\n",
    "        except Exception as e:\n",
    "            print(f\"Error creating folder: {e}\")\n",
    "            return None\n",
    "\n",
    "    \n",
    "    def bz2_uncompress(self, src_path):\n",
    "        with bz2.open(src_path, 'rt', encoding='utf-8') as file:\n",
    "            # Parse XML content\n",
    "            tree = ET.fromstring(file.read())\n",
    "            return tree\n",
    "\n",
    "    \n",
    "    def parse_wikivoyage_articles(self, tree, dest_path, region, limit=100, show_articles_preview=True):\n",
    "        self._ensure_folder_exists(dest_path)\n",
    "        # Define namespace\n",
    "        namespace = {'mw': 'http://www.mediawiki.org/xml/export-0.11/'}\n",
    "        # Iterate through all pages\n",
    "        counter = 0\n",
    "        for page in tqdm(tree.findall('.//mw:page', namespace)[:limit]):\n",
    "            title = page.find('mw:title', namespace).text\n",
    "            text = page.find('.//mw:text', namespace).text\n",
    "            if text and region.lower() in text.lower():\n",
    "                if show_articles_preview:\n",
    "                    print(f\"Title: {title}\")\n",
    "                    print(\"#\" * 50)\n",
    "                article = {\n",
    "                    'title': title,\n",
    "                    'content': text\n",
    "                }\n",
    "                with open(f\"{dest_path}/article_{counter}.json\", \"w\") as a:\n",
    "                    json.dump(article, a)\n",
    "                counter += 1\n",
    "        articles = os.listdir(dest_path)\n",
    "        print(f\"Total articles found for {region}: {len(articles)}\")"
   ]
  },
  {
   "cell_type": "code",
   "execution_count": 119,
   "id": "502861b0-790e-47a7-921e-ca1fa306b4cf",
   "metadata": {},
   "outputs": [],
   "source": [
    "# Uncompressing wikivoyage data\n",
    "src_path = \"data/raw/enwikivoyage-latest-pages-articles.xml.bz2\"\n",
    "parser = WikivoyageParser(src_path)\n",
    "# wikivoyage = parser.bz2_uncompress(src_path)"
   ]
  },
  {
   "cell_type": "code",
   "execution_count": 122,
   "id": "4f794132-ef34-4f44-b877-d526a682f7c8",
   "metadata": {
    "scrolled": true
   },
   "outputs": [
    {
     "name": "stdout",
     "output_type": "stream",
     "text": [
      "Created folder: data/wikivoyage\n"
     ]
    },
    {
     "name": "stderr",
     "output_type": "stream",
     "text": [
      "100%|██████████████████████████████████████████████████████████| 1000/1000 [00:00<00:00, 17074.24it/s]"
     ]
    },
    {
     "name": "stdout",
     "output_type": "stream",
     "text": [
      "Title: Acapulco\n",
      "##################################################\n",
      "Title: Adelaide\n",
      "##################################################\n",
      "Title: Adrogué\n",
      "##################################################\n",
      "Title: Africa\n",
      "##################################################\n",
      "Title: Aggressive dogs\n",
      "##################################################\n",
      "Title: Agritourism\n",
      "##################################################\n",
      "Title: Alcamo\n",
      "##################################################\n",
      "Title: Downhill snowsports\n",
      "##################################################\n",
      "Title: Alps\n",
      "##################################################\n",
      "Title: Altiplano (Peru)\n",
      "##################################################\n",
      "Title: Altitude sickness\n",
      "##################################################\n",
      "Title: Amarante\n",
      "##################################################\n",
      "Title: Amazon (Ecuador)\n",
      "##################################################\n",
      "Title: Amazonas (Venezuela)\n",
      "##################################################\n",
      "Title: Amazonia\n",
      "##################################################\n",
      "Title: Amazonia (disambiguation)\n",
      "##################################################\n",
      "Title: America\n",
      "##################################################\n",
      "Title: Amsterdam/Oost\n",
      "##################################################\n",
      "Title: Andahuaylas\n",
      "##################################################\n",
      "Title: Andean Highlands\n",
      "##################################################\n",
      "Title: Andes\n",
      "##################################################\n",
      "Title: Andes (disambiguation)\n",
      "##################################################\n",
      "Title: Andino\n",
      "##################################################\n",
      "Total articles found for South America: 23\n"
     ]
    },
    {
     "name": "stderr",
     "output_type": "stream",
     "text": [
      "\n"
     ]
    }
   ],
   "source": [
    "# Testing the parser\n",
    "dest_path = \"data/wikivoyage\"\n",
    "parser.parse_wikivoyage_articles(wikivoyage, dest_path, region=\"South America\", limit=1000, show_articles_preview=True)"
   ]
  },
  {
   "cell_type": "code",
   "execution_count": 123,
   "id": "e7a422ea-c1ad-4ea2-a64f-2161d509fd36",
   "metadata": {},
   "outputs": [
    {
     "name": "stdout",
     "output_type": "stream",
     "text": [
      "Created folder: data/wikivoyage\n"
     ]
    },
    {
     "name": "stderr",
     "output_type": "stream",
     "text": [
      "100%|████████████████████████████████████████████████████████| 76177/76177 [00:02<00:00, 27926.07it/s]"
     ]
    },
    {
     "name": "stdout",
     "output_type": "stream",
     "text": [
      "Total articles found for South America: 891\n"
     ]
    },
    {
     "name": "stderr",
     "output_type": "stream",
     "text": [
      "\n"
     ]
    }
   ],
   "source": [
    "# Downloading all wikivoyage articles\n",
    "!rm -rf data/wikivoyage/\n",
    "parser.parse_wikivoyage_articles(wikivoyage, dest_path, region=\"South America\", limit=None, show_articles_preview=False)"
   ]
  },
  {
   "cell_type": "markdown",
   "id": "fc320047-e78b-4b42-bcea-dc5755f21149",
   "metadata": {},
   "source": [
    "# Checking wikivoyage data"
   ]
  },
  {
   "cell_type": "code",
   "execution_count": 124,
   "id": "38f00209-a03a-4f4b-bfb7-03de1f3c2b60",
   "metadata": {},
   "outputs": [
    {
     "name": "stdout",
     "output_type": "stream",
     "text": [
      "891\n"
     ]
    },
    {
     "data": {
      "text/plain": [
       "['article_597.json', 'article_374.json']"
      ]
     },
     "execution_count": 124,
     "metadata": {},
     "output_type": "execute_result"
    }
   ],
   "source": [
    "import os\n",
    "\n",
    "wd = os.listdir(dest_path)\n",
    "print(len(wd))\n",
    "wd[:2]"
   ]
  },
  {
   "cell_type": "code",
   "execution_count": 125,
   "id": "94806332-a9b3-47a7-b2db-e4cf56ee57cd",
   "metadata": {},
   "outputs": [
    {
     "name": "stdout",
     "output_type": "stream",
     "text": [
      "Title: Gambling\n",
      "Article preview: {{pagebanner|Gambling banner Sahara Hotel.jpg|caption=Roulette}}\n",
      "\n",
      "'''Gambling''' with high (or even moderate) stakes is outlawed in many parts of the world. Some places that allow such gambling draw t\n",
      "-----------------------------------------------\n",
      "Title: Sandwich\n",
      "Article preview: {{pagebanner|Disambiguation banner.png}}\n",
      "__NOTOC__\n",
      "There is more than one place called '''Sandwich''':\n",
      "\n",
      "===[[United Kingdom]]===\n",
      "\n",
      "* [[Sandwich (England)]] - A town in [[Kent]], [[England]].\n",
      "\n",
      "===[[Unit\n",
      "-----------------------------------------------\n",
      "Title: Wikivoyage:Wikivoyagers by location\n",
      "Article preview: {{pagebanner|pgname=Wikivoyagers by location|Generic banner country.jpg}}\n",
      "Wikivoyage is a truly global community; the map below should show that! Please feel free to add your user name to the lists be\n",
      "-----------------------------------------------\n",
      "Title: São Paulo/West Side\n",
      "Article preview: {{pagebanner|Marginal Pinheiros SAO 07 2009 6074 (cropped).jpg}}\n",
      "[[Image:S%C3%A3o_Paulo_CBD.jpg|thumb|350px|Berrini business district.]]\n",
      "'''West''' is a region in [[São Paulo]]. If the Downtown repres\n",
      "-----------------------------------------------\n",
      "Title: Legislative buildings\n",
      "Article preview: {{pagebanner|Legislative buildings banner Australian House of Representatives.jpg|caption=Australian House of Representatives chamber}}\n",
      "\n",
      "The tradition, history and heritage associated with machinery a\n",
      "-----------------------------------------------\n",
      "Title: Wikivoyage:Tourist office/Archives/2014/October\n",
      "Article preview: \n",
      "\n",
      "== Should I visit Nepal? ==\n",
      "\n",
      "<!-- Please type your question above this line. Do not change the next line - it will sign & date your question -->\n",
      "Asked by: [[User:Ashesh.bhusal|Ashesh.bhusal]] ([[Use\n",
      "-----------------------------------------------\n",
      "Title: Rio de Janeiro/Centro\n",
      "Article preview: {{pagebanner|Downtown Rio de Janeiro Wikivoyage banner.jpg|unesco=yes|pgname=Downtown Rio de Janeiro}}\n",
      "Rio's '''Centro''' (Downtown) is a district in the city of [[Rio de Janeiro]]. ''Centro'' has mos\n",
      "-----------------------------------------------\n",
      "Title: Infectious diseases\n",
      "Article preview: {{pagebanner|WV banner Infectious diseases Vaccine.jpg}}\n",
      "{{disclaimerbox|Disclaimer: This article gives an overview of infectious diseases, and is not intended to replace professional medical advice.}\n",
      "-----------------------------------------------\n",
      "Title: Salvador\n",
      "Article preview: {{pagebanner|Bannersalvador.jpg|unesco=yes}}\n",
      "'''Salvador''' is the capital of the state of [[Bahia]], [[Brazil]]. With a charming Old Town (a [[World Heritage Site]]), a vibrant musical scene and popu\n",
      "-----------------------------------------------\n",
      "Title: Bead shopping\n",
      "Article preview: {{pagebanner|WV banner Bead shopping.jpg}}\n",
      "'''Beading''' is a centuries-old pastime, recreation, profession, religion or obsession. Beads and beaded objects have served as amulets, as trophies, as mon\n",
      "-----------------------------------------------\n"
     ]
    }
   ],
   "source": [
    "import json\n",
    "\n",
    "# Looking at the first 50 articles\n",
    "for i in wd[:10]:\n",
    "    a = open(f\"data/wikivoyage/{i}\", \"r\").read()\n",
    "    a = json.loads(a)\n",
    "    print(f\"Title: {a['title']}\")\n",
    "    print(f\"Article preview: {a['content'][:200]}\")\n",
    "    print(\"-----------------------------------------------\")"
   ]
  },
  {
   "cell_type": "code",
   "execution_count": null,
   "id": "25bb8d0b-f5e5-4c25-83ee-fa004f3a104a",
   "metadata": {},
   "outputs": [],
   "source": []
  }
 ],
 "metadata": {
  "kernelspec": {
   "display_name": "Python 3 (ipykernel)",
   "language": "python",
   "name": "python3"
  },
  "language_info": {
   "codemirror_mode": {
    "name": "ipython",
    "version": 3
   },
   "file_extension": ".py",
   "mimetype": "text/x-python",
   "name": "python",
   "nbconvert_exporter": "python",
   "pygments_lexer": "ipython3",
   "version": "3.10.12"
  }
 },
 "nbformat": 4,
 "nbformat_minor": 5
}
